{
  "nbformat": 4,
  "nbformat_minor": 0,
  "metadata": {
    "kernelspec": {
      "name": "python3",
      "display_name": "Python 3.9.1 64-bit",
      "metadata": {
        "interpreter": {
          "hash": "63fd5069d213b44bf678585dea6b12cceca9941eaf7f819626cde1f2670de90d"
        }
      }
    },
    "language_info": {
      "codemirror_mode": {
        "name": "ipython",
        "version": 3
      },
      "file_extension": ".py",
      "mimetype": "text/x-python",
      "name": "python",
      "nbconvert_exporter": "python",
      "pygments_lexer": "ipython3",
      "version": "3.9.1-final"
    },
    "colab": {
      "name": "ai_builder_entrace_exam_lite.ipynb",
      "provenance": []
    }
  },
  "cells": [
    {
      "cell_type": "markdown",
      "metadata": {
        "id": "kLpk0WHnYy3U"
      },
      "source": [
        "# Entrace Example for AI Builders"
      ]
    },
    {
      "cell_type": "markdown",
      "metadata": {
        "id": "SOXm4FDbYy3a"
      },
      "source": [
        "จุดมุ่งหมายคือการทดสอบความรู้ปรับพื้นฐานสำหรับ AI Builders ทุกคำตอบสามารถหาได้จาก notebook ปรับพื้นฐาน `ai_builder_intro_python.ipynb`, `ai_builder_numpy.ipynb` และ `ai_builder_pandas.ipynb` \n",
        "\n",
        "เราหวังให้คุณพยามสุดความสามารถที่จะตอบ แต่ไม่จำเป็นต้องตอบได้ครบทุกข้อเพื่อที่จะได้รับการคัดเลือกเข้าโครงการ"
      ]
    },
    {
      "cell_type": "markdown",
      "metadata": {
        "id": "5tyNTL2HYy3b"
      },
      "source": [
        "## Python"
      ]
    },
    {
      "cell_type": "markdown",
      "metadata": {
        "id": "HeCQ16-mYy3b"
      },
      "source": [
        "1. หาก `a=1` และ `b=2.5` แล้ว, `c` = $0.5(a+2b^5)$, `c` มีค่าเท่าไหร่? $b^x$ เขียนใน Python ได้แบบนี้ `b**x`"
      ]
    },
    {
      "cell_type": "code",
      "metadata": {
        "colab": {
          "base_uri": "https://localhost:8080/"
        },
        "id": "jAoZOSxvYy3c",
        "outputId": "ee85c81b-25c9-4efc-9105-468525f5e49e"
      },
      "source": [
        "a = 1\n",
        "b = 2.5\n",
        "#ans\n",
        "c = 0.5 * (a + 2 * b ** 5)\n",
        "c"
      ],
      "execution_count": 1,
      "outputs": [
        {
          "output_type": "execute_result",
          "data": {
            "text/plain": [
              "98.15625"
            ]
          },
          "metadata": {},
          "execution_count": 1
        }
      ]
    },
    {
      "cell_type": "markdown",
      "metadata": {
        "id": "ZTkZPL4yYy3c"
      },
      "source": [
        "2. `a`, `b`, และ `c` เป็นตัวแปรชนิดอะไรบ้าง? (ลองใช้ `type(a)`)"
      ]
    },
    {
      "cell_type": "code",
      "metadata": {
        "colab": {
          "base_uri": "https://localhost:8080/"
        },
        "id": "lrK_bul3Yy3d",
        "outputId": "bc08f7cb-a16e-48f8-94dc-b4d813d36ebd"
      },
      "source": [
        "a = 1\n",
        "b = 2.5\n",
        "c = 0.5 * (a + 2 * b ** 5)\n",
        "#ans\n",
        "print(type(a))\n",
        "print(type(b))\n",
        "print(type(c))\n",
        "#int, float, float"
      ],
      "execution_count": 2,
      "outputs": [
        {
          "output_type": "stream",
          "name": "stdout",
          "text": [
            "<class 'int'>\n<class 'float'>\n<class 'float'>\n"
          ]
        }
      ]
    },
    {
      "cell_type": "markdown",
      "metadata": {
        "id": "FFibfGjhYy3d"
      },
      "source": [
        "3. จากตัวแปร `s = 'AI Builders - A Program For Kids Who Wants to AI Good Good'`, เราจะดึงคำว่า `AI Good` ออกมาได้อย่างไร?"
      ]
    },
    {
      "cell_type": "code",
      "metadata": {
        "colab": {
          "base_uri": "https://localhost:8080/",
          "height": 35
        },
        "id": "kmvtMkBmYy3d",
        "outputId": "bc5e2403-a0d3-490b-a5be-9457917e6f56"
      },
      "source": [
        "s = 'AI Builders - A Program For Kids Who Wants to AI Good Good'\n",
        "#ans\n",
        "s[-12:-5]"
      ],
      "execution_count": 3,
      "outputs": [
        {
          "output_type": "execute_result",
          "data": {
            "text/plain": [
              "'AI Good'"
            ]
          },
          "metadata": {},
          "execution_count": 3
        }
      ]
    },
    {
      "cell_type": "markdown",
      "metadata": {
        "id": "eClVfPlYYy3e"
      },
      "source": [
        "4. ใช้ loop `print` ทุก element ใน `l` ยกเว้น element ที่เขียนว่า `AI`\n",
        "\n",
        "`l = ['AI','Builders','-','A','Program','For','Kids','Who','Wants','to','AI','Good','Good']`\n",
        "\n",
        "ลองใช้ `for` และ `if` เพื่อกรอง element ที่มีค่าเป็น `AI` ออก"
      ]
    },
    {
      "cell_type": "code",
      "metadata": {
        "colab": {
          "base_uri": "https://localhost:8080/"
        },
        "id": "NLyu4aGUYy3f",
        "outputId": "fd328468-d682-4305-82ee-42e02f3d979c"
      },
      "source": [
        "l = ['AI','Builders','-','A','Program','For','Kids','Who','Wants','to','AI','Good','Good']\n",
        "#ans\n",
        "for i in l:\n",
        "    if(i != 'AI'):\n",
        "        print(i)"
      ],
      "execution_count": 4,
      "outputs": [
        {
          "output_type": "stream",
          "name": "stdout",
          "text": [
            "Builders\n-\nA\nProgram\nFor\nKids\nWho\nWants\nto\nGood\nGood\n"
          ]
        }
      ]
    },
    {
      "cell_type": "markdown",
      "metadata": {
        "id": "Q3dRTyA6Yy3g"
      },
      "source": [
        "5. เขียนฟังชั่น `midpoint` ที่หาจุดกึ่งกลางระหว่างตัวเลข `a` และ `b` "
      ]
    },
    {
      "cell_type": "code",
      "metadata": {
        "colab": {
          "base_uri": "https://localhost:8080/"
        },
        "id": "PcYpplGUYy3g",
        "outputId": "ed5c7350-f0cd-4b04-fc1d-9d1a3205443b"
      },
      "source": [
        "def midpoint(a, b):\n",
        "    #ans\n",
        "    return (a + b) / 2\n",
        "\n",
        "print(midpoint(1, 4))  # expected 2.5\n",
        "print(midpoint(3, 3))  # expected 3\n",
        "print(midpoint(-2, 2))  # expected 0"
      ],
      "execution_count": 5,
      "outputs": [
        {
          "output_type": "stream",
          "name": "stdout",
          "text": [
            "2.5\n3.0\n0.0\n"
          ]
        }
      ]
    },
    {
      "cell_type": "markdown",
      "metadata": {
        "id": "YgVD5Xb_Yy3h"
      },
      "source": [
        "6. เขียนฟังชั่น `fizzbuzz` ที่รับตัวเลข `x`\n",
        "\n",
        "\n",
        "- ถ้า `x` หารด้วย 2 ลงให้คืน string ว่า `fizz`\n",
        "- ถ้า `x` หารด้วย 3 ลงให้คืน string ว่า `buzz`\n",
        "- ถ้า `x` หารด้วยทั้ง 2 และ 3 ลงให้คืน string ว่า `fizzbuzz`\n",
        "- นอกนั้นให้คืน `None`\n",
        "\n",
        "ลองใช้ `if`, `elif` และ `else` ในฟังชั่น `fizzbuzz`"
      ]
    },
    {
      "cell_type": "code",
      "metadata": {
        "colab": {
          "base_uri": "https://localhost:8080/"
        },
        "id": "mzOx-NikYy3h",
        "outputId": "e75de04b-db95-4258-ca9d-5ec963dd9437"
      },
      "source": [
        "def fizzbuzz(x):\n",
        "    #ans\n",
        "    if(x % 2 == 0 and x % 3 == 0):\n",
        "        return 'fizzbuzz'\n",
        "    if(x % 2 == 0):\n",
        "        return 'fizz'\n",
        "    if(x % 3 == 0):\n",
        "        return 'buzz'\n",
        "for i in range(20):\n",
        "    print(i,fizzbuzz(i))"
      ],
      "execution_count": 6,
      "outputs": [
        {
          "output_type": "stream",
          "name": "stdout",
          "text": [
            "0 fizzbuzz\n1 None\n2 fizz\n3 buzz\n4 fizz\n5 None\n6 fizzbuzz\n7 None\n8 fizz\n9 buzz\n10 fizz\n11 None\n12 fizzbuzz\n13 None\n14 fizz\n15 buzz\n16 fizz\n17 None\n18 fizzbuzz\n19 None\n"
          ]
        }
      ]
    },
    {
      "cell_type": "markdown",
      "metadata": {
        "id": "k7UG1BmrYy3h"
      },
      "source": [
        "## Numpy and Linear Algebra"
      ]
    },
    {
      "cell_type": "code",
      "metadata": {
        "id": "GSAZ31dGYy3i"
      },
      "source": [
        "import numpy as np"
      ],
      "execution_count": null,
      "outputs": []
    },
    {
      "cell_type": "markdown",
      "metadata": {
        "id": "wsgDyjwSYy3i"
      },
      "source": [
        "1. สร้าง numpy array `a` ที่มีมิติ `3*3` โดยมีค่าเป็นตัวเลขจาก 1 ถึง 9 (ลองใช้ `np.arange` และ `np.reshape`)"
      ]
    },
    {
      "cell_type": "code",
      "metadata": {
        "colab": {
          "base_uri": "https://localhost:8080/"
        },
        "id": "6QdatkjNYy3i",
        "outputId": "f0324f33-5f8e-4311-bce2-1471ab0f9278"
      },
      "source": [
        "import numpy as np\n",
        "a = np.arange(1, 10)\n",
        "a = a.reshape(3, 3)\n",
        "a"
      ],
      "execution_count": 7,
      "outputs": [
        {
          "output_type": "execute_result",
          "data": {
            "text/plain": [
              "array([[1, 2, 3],\n",
              "       [4, 5, 6],\n",
              "       [7, 8, 9]])"
            ]
          },
          "metadata": {},
          "execution_count": 7
        }
      ]
    },
    {
      "cell_type": "markdown",
      "metadata": {
        "id": "fw7G8PDFYy3i"
      },
      "source": [
        "2. สร้าง numpy array `b` ที่มีมิติ `4*3` โดยมีค่าเป็นตัวเลขจาก 1 ถึง 12 (ลองใช้ `np.arange` และ `np.reshape`)"
      ]
    },
    {
      "cell_type": "code",
      "metadata": {
        "colab": {
          "base_uri": "https://localhost:8080/"
        },
        "id": "l5L2UdGlYy3j",
        "outputId": "548f718c-d35c-445f-bd1c-ff423b96b8c6"
      },
      "source": [
        "import numpy as np\n",
        "b = np.arange(1, 13)\n",
        "b = b.reshape(4, 3)\n",
        "b"
      ],
      "execution_count": 8,
      "outputs": [
        {
          "output_type": "execute_result",
          "data": {
            "text/plain": [
              "array([[ 1,  2,  3],\n",
              "       [ 4,  5,  6],\n",
              "       [ 7,  8,  9],\n",
              "       [10, 11, 12]])"
            ]
          },
          "metadata": {},
          "execution_count": 8
        }
      ]
    },
    {
      "cell_type": "markdown",
      "metadata": {
        "id": "CrNv4cLZYy3j"
      },
      "source": [
        "3. เราสามารถหาค่า `a` dot product `b` ได้หรือไม่-เพราะอะไร (ลองใช้ `a.dot(b)` หรือ `a@b`)"
      ]
    },
    {
      "cell_type": "code",
      "metadata": {
        "colab": {
          "base_uri": "https://localhost:8080/",
          "height": 214
        },
        "id": "L7Tmne6dYy3j",
        "outputId": "4f3ed2a0-e8d6-431d-88d2-d592e09c1607"
      },
      "source": [
        "a = np.arange(1, 10)\n",
        "a = a.reshape(3, 3)\n",
        "\n",
        "b = np.arange(1, 13)\n",
        "b = b.reshape(4, 3)\n",
        "#ans\n",
        "a@b\n",
        "#ไม่ได้ เพราะ จำนวนหลักของ a (3) ไม่เท่ากับจำนวนแถวของ b (4)\n"
      ],
      "execution_count": 9,
      "outputs": [
        {
          "output_type": "error",
          "ename": "ValueError",
          "evalue": "matmul: Input operand 1 has a mismatch in its core dimension 0, with gufunc signature (n?,k),(k,m?)->(n?,m?) (size 4 is different from 3)",
          "traceback": [
            "\u001b[1;31m---------------------------------------------------------------------------\u001b[0m",
            "\u001b[1;31mValueError\u001b[0m                                Traceback (most recent call last)",
            "\u001b[1;32m<ipython-input-9-434369330f4d>\u001b[0m in \u001b[0;36m<module>\u001b[1;34m\u001b[0m\n\u001b[0;32m      5\u001b[0m \u001b[0mb\u001b[0m \u001b[1;33m=\u001b[0m \u001b[0mb\u001b[0m\u001b[1;33m.\u001b[0m\u001b[0mreshape\u001b[0m\u001b[1;33m(\u001b[0m\u001b[1;36m4\u001b[0m\u001b[1;33m,\u001b[0m \u001b[1;36m3\u001b[0m\u001b[1;33m)\u001b[0m\u001b[1;33m\u001b[0m\u001b[1;33m\u001b[0m\u001b[0m\n\u001b[0;32m      6\u001b[0m \u001b[1;31m#ans\u001b[0m\u001b[1;33m\u001b[0m\u001b[1;33m\u001b[0m\u001b[1;33m\u001b[0m\u001b[0m\n\u001b[1;32m----> 7\u001b[1;33m \u001b[0ma\u001b[0m\u001b[1;33m@\u001b[0m\u001b[0mb\u001b[0m\u001b[1;33m\u001b[0m\u001b[1;33m\u001b[0m\u001b[0m\n\u001b[0m\u001b[0;32m      8\u001b[0m \u001b[1;31m#ไม่ได้ เพราะ จำนวนหลักของ a (3) ไม่เท่ากับจำนวนแถวของ b (4)\u001b[0m\u001b[1;33m\u001b[0m\u001b[1;33m\u001b[0m\u001b[1;33m\u001b[0m\u001b[0m\n",
            "\u001b[1;31mValueError\u001b[0m: matmul: Input operand 1 has a mismatch in its core dimension 0, with gufunc signature (n?,k),(k,m?)->(n?,m?) (size 4 is different from 3)"
          ]
        }
      ]
    },
    {
      "cell_type": "markdown",
      "metadata": {
        "id": "LMWbIZgWYy3k"
      },
      "source": [
        "4. หาค่า `a` dot product (`b` transposed) (tranpose `b` ได้ด้วยคำสั่ง `b.T`)"
      ]
    },
    {
      "cell_type": "code",
      "metadata": {
        "colab": {
          "base_uri": "https://localhost:8080/"
        },
        "id": "urF2b2fwYy3k",
        "outputId": "7103306a-452e-4b48-df3d-078f49ce8e25"
      },
      "source": [
        "a = np.arange(1, 10)\n",
        "a = a.reshape(3, 3)\n",
        "\n",
        "b = np.arange(1, 13)\n",
        "b = b.reshape(4, 3)\n",
        "#ans\n",
        "a@b.T"
      ],
      "execution_count": 10,
      "outputs": [
        {
          "output_type": "execute_result",
          "data": {
            "text/plain": [
              "array([[ 14,  32,  50,  68],\n",
              "       [ 32,  77, 122, 167],\n",
              "       [ 50, 122, 194, 266]])"
            ]
          },
          "metadata": {},
          "execution_count": 10
        }
      ]
    },
    {
      "cell_type": "markdown",
      "metadata": {
        "id": "Ofj8xxC-Yy3k"
      },
      "source": [
        "5. มิติ (แถวและคอลัมน์) ของ `a` และ `b` คืออะไร (ลองใช้ `a.shape`)"
      ]
    },
    {
      "cell_type": "code",
      "metadata": {
        "colab": {
          "base_uri": "https://localhost:8080/"
        },
        "id": "6RExY9UzYy3k",
        "outputId": "6d40be29-b3ee-407d-bfcd-d3d55cb14628"
      },
      "source": [
        "a = np.arange(1, 10)\n",
        "a = a.reshape(3, 3)\n",
        "\n",
        "b = np.arange(1, 13)\n",
        "b = b.reshape(4, 3)\n",
        "#ans\n",
        "a.shape, b.shape"
      ],
      "execution_count": 11,
      "outputs": [
        {
          "output_type": "execute_result",
          "data": {
            "text/plain": [
              "((3, 3), (4, 3))"
            ]
          },
          "metadata": {},
          "execution_count": 11
        }
      ]
    },
    {
      "cell_type": "markdown",
      "metadata": {
        "id": "FTxzj72nYy3l"
      },
      "source": [
        "6. คูณทุก element ของ `a` ด้วย -1"
      ]
    },
    {
      "cell_type": "code",
      "metadata": {
        "colab": {
          "base_uri": "https://localhost:8080/"
        },
        "id": "eW1pu-hvYy3l",
        "outputId": "7885d13f-8a47-438c-fa02-473175e20110"
      },
      "source": [
        "a = np.arange(1, 10)\n",
        "a = a.reshape(3, 3)\n",
        "#ans\n",
        "a *= -1\n",
        "a"
      ],
      "execution_count": 12,
      "outputs": [
        {
          "output_type": "execute_result",
          "data": {
            "text/plain": [
              "array([[-1, -2, -3],\n",
              "       [-4, -5, -6],\n",
              "       [-7, -8, -9]])"
            ]
          },
          "metadata": {},
          "execution_count": 12
        }
      ]
    },
    {
      "cell_type": "markdown",
      "metadata": {
        "id": "GGQl1FJVYy3l"
      },
      "source": [
        "7. เปลี่ยนมิติของ `b` ให้เป็น `2*2*3` (ลองใช้ `np.reshape`)"
      ]
    },
    {
      "cell_type": "code",
      "metadata": {
        "colab": {
          "base_uri": "https://localhost:8080/"
        },
        "id": "2ebrD1-YYy3l",
        "outputId": "445a569f-6597-4d96-884e-4154d83c6102"
      },
      "source": [
        "b = np.arange(1, 13)\n",
        "b = b.reshape(4, 3)\n",
        "#ans\n",
        "b = b.reshape(2, 2, 3)\n",
        "b"
      ],
      "execution_count": 13,
      "outputs": [
        {
          "output_type": "execute_result",
          "data": {
            "text/plain": [
              "array([[[ 1,  2,  3],\n",
              "        [ 4,  5,  6]],\n",
              "\n",
              "       [[ 7,  8,  9],\n",
              "        [10, 11, 12]]])"
            ]
          },
          "metadata": {},
          "execution_count": 13
        }
      ]
    },
    {
      "cell_type": "markdown",
      "metadata": {
        "id": "I8TEgvvhYy3m"
      },
      "source": [
        "8. ค่าเฉลี่ยของแต่ละแถวของ `a` (`3*3`) คืออะไร (ลองใช้ `np.mean` สังเกตว่าควรใช้ `axis=1` หรือ `axis=0`)"
      ]
    },
    {
      "cell_type": "code",
      "metadata": {
        "colab": {
          "base_uri": "https://localhost:8080/"
        },
        "id": "kGGwJJgLYy3m",
        "outputId": "3dab1e48-906e-43cb-9ac9-1a3797c97f86"
      },
      "source": [
        "import numpy as np\n",
        "\n",
        "a = np.arange(1, 10)\n",
        "a = a.reshape(3, 3)\n",
        "#ans\n",
        "np.mean(a, axis = 1)\n"
      ],
      "execution_count": 14,
      "outputs": [
        {
          "output_type": "execute_result",
          "data": {
            "text/plain": [
              "array([2., 5., 8.])"
            ]
          },
          "metadata": {},
          "execution_count": 14
        }
      ]
    },
    {
      "cell_type": "markdown",
      "metadata": {
        "id": "x4KbPh3wYy3m"
      },
      "source": [
        "9. ค่าเฉลี่ยของแต่ละคอลัมน์ของ `a` (`3*3`) คืออะไร (ลองใช้ `np.mean` สังเกตว่าควรใช้ `axis=1` หรือ `axis=0`)"
      ]
    },
    {
      "cell_type": "code",
      "metadata": {
        "colab": {
          "base_uri": "https://localhost:8080/"
        },
        "id": "qBAal_jzYy3m",
        "outputId": "a96a425e-fc6a-4d82-88e6-22a2d42539d5"
      },
      "source": [
        "import numpy as np\n",
        "\n",
        "a = np.arange(1, 10)\n",
        "a = a.reshape(3, 3)\n",
        "#ans\n",
        "np.mean(a, axis = 0)"
      ],
      "execution_count": 15,
      "outputs": [
        {
          "output_type": "execute_result",
          "data": {
            "text/plain": [
              "array([4., 5., 6.])"
            ]
          },
          "metadata": {},
          "execution_count": 15
        }
      ]
    },
    {
      "cell_type": "markdown",
      "metadata": {
        "id": "uaL6YC_rYy3n"
      },
      "source": [
        "10. ถ้าเราต้องการหา `[[1,2],[4,5]]` จาก `a` เราต้องเลือกอย่างไร"
      ]
    },
    {
      "cell_type": "code",
      "metadata": {
        "id": "KWsnT42sYy3n",
        "outputId": "c3e575d3-0d66-4400-b83e-5e86d8f12ba0"
      },
      "source": [
        "#เราสามารถ slice แต่ละส่วนของ `np.array` ได้เหมือนกับ list เช่น \n",
        "a[1:,1:]"
      ],
      "execution_count": 16,
      "outputs": [
        {
          "output_type": "execute_result",
          "data": {
            "text/plain": [
              "array([[5, 6],\n",
              "       [8, 9]])"
            ]
          },
          "metadata": {},
          "execution_count": 16
        }
      ]
    },
    {
      "cell_type": "code",
      "metadata": {
        "colab": {
          "base_uri": "https://localhost:8080/"
        },
        "id": "p6-9RJzhYy3n",
        "outputId": "024112cf-1174-421d-e0ba-f0c56c01101f"
      },
      "source": [
        "import numpy as np\n",
        "\n",
        "a = np.arange(1, 10)\n",
        "a = a.reshape(3, 3)\n",
        "#ans\n",
        "a[:2, :2]"
      ],
      "execution_count": 17,
      "outputs": [
        {
          "output_type": "execute_result",
          "data": {
            "text/plain": [
              "array([[1, 2],\n",
              "       [4, 5]])"
            ]
          },
          "metadata": {},
          "execution_count": 17
        }
      ]
    },
    {
      "cell_type": "markdown",
      "metadata": {
        "id": "W2zaDN_xYy3n"
      },
      "source": [
        "## Pandas and Data Exploration"
      ]
    },
    {
      "cell_type": "markdown",
      "metadata": {
        "id": "vnFmv9OBYy3n"
      },
      "source": [
        "ดาวน์โหลดชุดข้อมูล [อุบัติเหตุบนโครงข่ายถนนของกระทรวงคมนาคม 2562](https://data.go.th/dataset/roadaccident) (ไฟล์ชื่อ `ubatiehtuthaangthnn.xlsx`) จาก [data.go.th](https://data.go.th/). ตอบคำถามต่อไปนี้"
      ]
    },
    {
      "cell_type": "code",
      "metadata": {
        "id": "Tqo13LmKYy3o"
      },
      "source": [
        "import pandas as pd"
      ],
      "execution_count": null,
      "outputs": []
    },
    {
      "cell_type": "markdown",
      "metadata": {
        "id": "Wd6w-VPWYy3o"
      },
      "source": [
        "1. อ่านไฟล์ `ubatiehtuthaangthnn.xlsx` เข้ามาเป็น `pandas.DataFrame`; `df` มีกี่แถว-คอลัมน์? (ลองใช้ `df.shape`)"
      ]
    },
    {
      "cell_type": "code",
      "metadata": {
        "colab": {
          "base_uri": "https://localhost:8080/"
        },
        "id": "xfbI9bYmYy3o",
        "outputId": "8f2504cb-5c4d-438d-80d1-5cef9b4c2146"
      },
      "source": [
        "import pandas as pd\n",
        "url = 'https://archive.org/download/ubatiehtuthaangthnn/ubatiehtuthaangthnn.xlsx'\n",
        "df = pd.read_excel(url)\n",
        "#ans\n",
        "df.shape\n",
        "#19965 แถว 20 หลัก"
      ],
      "execution_count": 18,
      "outputs": [
        {
          "output_type": "execute_result",
          "data": {
            "text/plain": [
              "(19965, 20)"
            ]
          },
          "metadata": {},
          "execution_count": 18
        }
      ]
    },
    {
      "cell_type": "markdown",
      "metadata": {
        "id": "rhoBWNx_Yy3o"
      },
      "source": [
        "2. เรียกดู 20 แถวแรกและ 20 แถวสุดท้ายของ `df` (ลองใช้ `df.head(20)` และ `df.tail(20)`)"
      ]
    },
    {
      "cell_type": "code",
      "metadata": {
        "colab": {
          "base_uri": "https://localhost:8080/"
        },
        "id": "cHPyXz9WYy3p",
        "outputId": "f17eb1aa-c618-4809-f2b5-9eab9720b119",
        "tags": [
          "outputPrepend"
        ]
      },
      "source": [
        "import pandas as pd\n",
        "url = 'https://archive.org/download/ubatiehtuthaangthnn/ubatiehtuthaangthnn.xlsx'\n",
        "df = pd.read_excel(url)\n",
        "#ans\n",
        "print(df.head(20))\n",
        "print(df.tail(20))"
      ],
      "execution_count": 19,
      "outputs": [
        {
          "output_type": "stream",
          "name": "stdout",
          "text": [
            "   01/01/2019  00:20   02/01/2019         05:12   \n4            2019     01/01/2019  00:25   01/01/2019         09:54   \n5            2019     01/01/2019  00:30   01/01/2019         11:22   \n6            2019     01/01/2019  00:30   03/01/2019         11:16   \n7            2019     01/01/2019  00:35   01/01/2019         09:04   \n8            2019     01/01/2019  00:40   01/01/2019         03:59   \n9            2019     01/01/2019  00:45   01/01/2019         09:57   \n10           2019     01/01/2019  00:45   01/01/2019         12:16   \n11           2019     01/01/2019  00:45   02/01/2019         02:51   \n12           2019     01/01/2019  01:00   01/01/2019         23:25   \n13           2019     01/01/2019  01:00   02/01/2019         03:42   \n14           2019     01/01/2019  01:00   02/01/2019         14:00   \n15           2019     01/01/2019  01:04   01/01/2019         09:51   \n16           2019     01/01/2019  01:15   02/01/2019         05:52   \n17           2019     01/01/2019  01:20   01/01/2019         11:02   \n18           2019     01/01/2019  01:20   01/01/2019         10:26   \n19           2019     01/01/2019  01:30   01/01/2019         09:17   \n\n        ACC_CODE        หน่วยงาน                                     สายทาง  \\\n0   201901023254  กรมทางหลวงชนบท                        ทางหลวงชนบท ลบ.2029   \n1   201902135341      กรมทางหลวง    ทางหลวงแผ่นดินหมายเลข 24 ตอนควบคุม 0702   \n2   201901012979      กรมทางหลวง  ทางหลวงแผ่นดินหมายเลข 3168 ตอนควบคุม 0100   \n3   201901023234  กรมทางหลวงชนบท                        ทางหลวงชนบท ชม.4016   \n4   201901012972      กรมทางหลวง   ทางหลวงแผ่นดินหมายเลข 225 ตอนควบคุม 0202   \n5   201901013012      กรมทางหลวง    ทางหลวงแผ่นดินหมายเลข 41 ตอนควบคุม 0103   \n6   201901073685  กรมทางหลวงชนบท                        ทางหลวงชนบท มส.3007   \n7   201901012973      กรมทางหลวง   ทางหลวงแผ่นดินหมายเลข 309 ตอนควบคุม 0302   \n8   201901012934      กรมทางหลวง   ทางหลวงแผ่นดินหมายเลข 406 ตอนควบคุม 0101   \n9   201901012969      กรมทางหลวง  ทางหลวงแผ่นดินหมายเลข 3157 ตอนควบคุม 0102   \n10  201901013014      กรมทางหลวง    ทางหลวงแผ่นดินหมายเลข 41 ตอนควบคุม 0103   \n11  201901023212      กรมทางหลวง    ทางหลวงแผ่นดินหมายเลข 11 ตอนควบคุม 0800   \n12  201901013180      กรมทางหลวง     ทางหลวงแผ่นดินหมายเลข 1 ตอนควบคุม 0403   \n13  201901023216      กรมทางหลวง  ทางหลวงแผ่นดินหมายเลข 4024 ตอนควบคุม 0102   \n14  201901023338      กรมทางหลวง     ทางหลวงแผ่นดินหมายเลข 4 ตอนควบคุม 0302   \n15  201901012967      กรมทางหลวง     ทางหลวงแผ่นดินหมายเลข 1 ตอนควบคุม 0300   \n16  201901023249      กรมทางหลวง  ทางหลวงแผ่นดินหมายเลข 3188 ตอนควบคุม 0101   \n17  201901012985      กรมทางหลวง  ทางหลวงแผ่นดินหมายเลข 2067 ตอนควบคุม 0101   \n18  201901012986      กรมทางหลวง  ทางหลวงแผ่นดินหมายเลข 3168 ตอนควบคุม 0100   \n19  201901012961      กรมทางหลวง   ทางหลวงแผ่นดินหมายเลข 403 ตอนควบคุม 0201   \n\n       ก.ม.          จังหวัด                             รถคันที่ 1  \\\n0     4.000           ลพบุรี                          รถจักรยานยนต์   \n1   419.770      อุบลราชธานี  รถยนต์นั่งส่วนบุคคล/รถยนต์นั่งสาธารณะ   \n2     1.700  ประจวบคีรีขันธ์                          รถจักรยานยนต์   \n3     1.880        เชียงใหม่                          รถจักรยานยนต์   \n4    68.800        นครสวรรค์  รถยนต์นั่งส่วนบุคคล/รถยนต์นั่งสาธารณะ   \n5    65.850            ชุมพร                   รถปิคอัพบรรทุก 4 ล้อ   \n6     2.000       แม่ฮ่องสอน                          รถจักรยานยนต์   \n7    96.586        สิงห์บุรี                          รถจักรยานยนต์   \n8    38.150            สงขลา                          รถจักรยานยนต์   \n9    73.800             ตราด                          รถจักรยานยนต์   \n10   61.900            ชุมพร                          รถจักรยานยนต์   \n11  533.400            ลำพูน                          รถจักรยานยนต์   \n12  118.800          สระบุรี                          รถจักรยานยนต์   \n13   14.200           ภูเก็ต                          รถจักรยานยนต์   \n14   96.200          ราชบุรี                          รถจักรยานยนต์   \n15   63.700           อยุธยา                   รถปิคอัพบรรทุก 4 ล้อ   \n16    1.500          สระบุรี                          รถจักรยานยนต์   \n17    3.100       นครราชสีมา                          รถจักรยานยนต์   \n18    2.000  ประจวบคีรีขันธ์                          รถจักรยานยนต์   \n19   29.500    นครศรีธรรมราช                   รถปิคอัพบรรทุก 4 ล้อ   \n\n                          บริเวณที่เกิดเหตุ/ลักษณะทาง  \\\n0                       ทางตรง+ไม่มีความลาดชัน/ที่ราบ   \n1                                              ทางตรง   \n2                                         ทางโค้งปกติ   \n3                       ทางตรง+ไม่มีความลาดชัน/ที่ราบ   \n4                                              ทางตรง   \n5                                      ทางแยกรูปตัว +   \n6                                    ทางรถจักรยานยนต์   \n7                                              ทางตรง   \n8                                         ทางโค้งปกติ   \n9                                              ทางตรง   \n10                                             ทางตรง   \n11                                             ทางตรง   \n12                                             ทางตรง   \n13                                             ทางตรง   \n14                                             ทางตรง   \n15                                             ทางตรง   \n16  ทางเชื่อมเข้าพื้นที่สาธารณะหรือเชิงพานิชย์ จำน...   \n17                                             ทางตรง   \n18                                        ทางโค้งปกติ   \n19                                        ทางโค้งปกติ   \n\n                             มูลเหตุสันนิษฐาน ลักษณะการเกิดอุบัติเหตุ   \\\n0                                     เมาสุรา                   อื่น ๆ   \n1                          ขับรถเร็วเกินกำหนด          ชนอุปกรณ์งานทาง   \n2                          ขับรถเร็วเกินกำหนด    ชนกัน/ชนยานพาหนะอื่นๆ   \n3                                     เมาสุรา             รถยนต์ชนรถไฟ   \n4                   คนหรือรถตัดหน้ากระชั้นชิด            พลิกคว่ำตกถนน   \n5   ไม่ให้สิทธิรถที่มาก่อนผ่านทาง เช่น ทางแยก    ชนกัน/ชนยานพาหนะอื่นๆ   \n6                          ขับรถเร็วเกินกำหนด             รถยนต์ชนรถไฟ   \n7                          ขับรถเร็วเกินกำหนด                  ชนรถจอด   \n8                          ขับรถเร็วเกินกำหนด                   ชนท้าย   \n9                          ขับรถเร็วเกินกำหนด                   ชนท้าย   \n10                         ขับรถเร็วเกินกำหนด            พลิกคว่ำตกถนน   \n11                         ขับรถเร็วเกินกำหนด            พลิกคว่ำตกถนน   \n12                         ขับรถเร็วเกินกำหนด            พลิกคว่ำตกถนน   \n13                         ขับรถเร็วเกินกำหนด            พลิกคว่ำตกถนน   \n14            ไม่ให้สัญญาณจอด / ชะลอ / เลี้ยว                 เฉี่ยวชน   \n15                         ขับรถเร็วเกินกำหนด             ชนคนเดินเท้า   \n16                  คนหรือรถตัดหน้ากระชั้นชิด    ชนกัน/ชนยานพาหนะอื่นๆ   \n17                         ขับรถเร็วเกินกำหนด            พลิกคว่ำตกถนน   \n18                         ขับรถเร็วเกินกำหนด            พลิกคว่ำตกถนน   \n19                         ขับรถเร็วเกินกำหนด            พลิกคว่ำตกถนน   \n\n    จำนวนรถที่เกิดเหตุ\\n(รวมคันที่ 1)  จำนวนผู้เสียชวิต  รวมจำนวนผู้บาดเจ็บ  \\\n0                                   1                 0                   2   \n1                                   1                 0                   2   \n2                                   2                 1                   0   \n3                                   1                 0                   1   \n4                                   1                 0                   0   \n5                                   2                 0                   2   \n6                                   1                 0                   2   \n7                                   2                 1                   0   \n8                                   2                 3                   0   \n9                                   2                 0                   1   \n10                                  1                 1                   0   \n11                                  1                 0                   1   \n12                                  1                 0                   1   \n13                                  1                 0                   1   \n14                                  2                 1                   0   \n15                                  1                 0                   1   \n16                                  2                 0                   2   \n17                                  1                 1                   1   \n18                                  1                 0                   1   \n19                                  1                 0                   5   \n\n    สภาพอากาศ   LATITUDE   LONGITUDE  \n0      แจ่มใส  14.959105  100.873463  \n1      แจ่มใส  15.210738  104.862689  \n2      แจ่มใส  12.374259   99.907949  \n3      แจ่มใส  18.601721   98.804204  \n4      แจ่มใส  15.866389  100.590010  \n5      แจ่มใส   9.949354   99.063479  \n6   หมอก/ควัน  18.815921   97.920940  \n7      แจ่มใส  14.894032  100.396529  \n8      แจ่มใส   7.059981  100.173978  \n9      แจ่มใส  12.322957  102.552188  \n10     แจ่มใส   9.984233   99.067814  \n11  หมอก/ควัน  18.599324   99.042958  \n12     แจ่มใส  14.627897  100.889634  \n13     แจ่มใส   7.842125   98.334675  \n14     แจ่มใส  13.574613   99.829910  \n15     แจ่มใส  14.225988  100.704656  \n16     แจ่มใส  14.573909  100.965667  \n17     แจ่มใส  15.129263  102.274953  \n18     แจ่มใส  12.373410   99.910510  \n19     แจ่มใส   8.157798   99.845810  \n       ปีที่เกิดเหตุ วันที่เกิดเหตุ   เวลา วันที่รายงาน เวลาที่รายงาน  \\\n19945           2019     31/12/2019  22:20   01/01/2020         05:00   \n19946           2019     31/12/2019  22:20   01/01/2020         10:02   \n19947           2019     31/12/2019  22:26   01/01/2020         06:12   \n19948           2019     31/12/2019  22:30   31/12/2019         23:35   \n19949           2019     31/12/2019  22:30   01/01/2020         10:05   \n19950           2019     31/12/2019  22:38   02/01/2020         12:21   \n19951           2019     31/12/2019  22:40   31/12/2019         23:12   \n19952           2019     31/12/2019  22:40   31/12/2019         23:21   \n19953           2019     31/12/2019  22:40   01/01/2020         01:25   \n19954           2019     31/12/2019  22:40   01/01/2020         01:46   \n19955           2019     31/12/2019  23:00   31/12/2019         23:37   \n19956           2019     31/12/2019  23:10   01/01/2020         00:14   \n19957           2019     31/12/2019  23:20   31/12/2019         23:53   \n19958           2019     31/12/2019  23:20   01/01/2020         00:38   \n19959           2019     31/12/2019  23:30   01/01/2020         00:18   \n19960           2019     31/12/2019  23:30   01/01/2020         09:38   \n19961           2019     31/12/2019  23:35   01/01/2020         00:14   \n19962           2019     31/12/2019  23:40   01/01/2020         00:58   \n19963           2019     31/12/2019  23:40   01/01/2020         06:44   \n19964           2019     31/12/2019  23:45   01/01/2020         20:42   \n\n           ACC_CODE        หน่วยงาน  \\\n19945  202001013666      กรมทางหลวง   \n19946  202001013734      กรมทางหลวง   \n19947  202001013691      กรมทางหลวง   \n19948  201912313629      กรมทางหลวง   \n19949  202001013739      กรมทางหลวง   \n19950  202001024037  กรมทางหลวงชนบท   \n19951  201912313620      กรมทางหลวง   \n19952  201912313624      กรมทางหลวง   \n19953  202001013649      กรมทางหลวง   \n19954  202001013652      กรมทางหลวง   \n19955  201912313628      กรมทางหลวง   \n19956  202001013638      กรมทางหลวง   \n19957  202001013632      กรมทางหลวง   \n19958  202001013646      กรมทางหลวง   \n19959  202001013637      กรมทางหลวง   \n19960  202001013732      กรมทางหลวง   \n19961  202001013642      กรมทางหลวง   \n19962  202001013647      กรมทางหลวง   \n19963  202001013681  กรมทางหลวงชนบท   \n19964  202001013882      กรมทางหลวง   \n\n                                          สายทาง      ก.ม.       จังหวัด  \\\n19945  ทางหลวงแผ่นดินหมายเลข 2445 ตอนควบคุม 0101    20.200     บุรีรัมย์   \n19946   ทางหลวงแผ่นดินหมายเลข 212 ตอนควบคุม 0304   382.000        นครพนม   \n19947  ทางหลวงแผ่นดินหมายเลข 4021 ตอนควบคุม 0100     6.150        ภูเก็ต   \n19948     ทางหลวงแผ่นดินหมายเลข 4 ตอนควบคุม 1103  1040.540          ตรัง   \n19949  ทางหลวงแผ่นดินหมายเลข 3472 ตอนควบคุม 0100     7.300    สุพรรณบุรี   \n19950                        ทางหลวงชนบท สร.4034     5.640      สุรินทร์   \n19951  ทางหลวงแผ่นดินหมายเลข 3350 ตอนควบคุม 0100     2.350    สุพรรณบุรี   \n19952   ทางหลวงแผ่นดินหมายเลข 321 ตอนควบคุม 0300   103.800    สุพรรณบุรี   \n19953     ทางหลวงแผ่นดินหมายเลข 2 ตอนควบคุม 0601   440.864      อุดรธานี   \n19954  ทางหลวงแผ่นดินหมายเลข 3195 ตอนควบคุม 0201    12.800       อ่างทอง   \n19955     ทางหลวงแผ่นดินหมายเลข 4 ตอนควบคุม 0501   145.400      เพชรบุรี   \n19956    ทางหลวงแผ่นดินหมายเลข 44 ตอนควบคุม 0200    78.300  สุราษฎร์ธานี   \n19957     ทางหลวงแผ่นดินหมายเลข 7 ตอนควบคุม 0109     5.900        ชลบุรี   \n19958  ทางหลวงแผ่นดินหมายเลข 1147 ตอนควบคุม 0100     0.005         ลำพูน   \n19959   ทางหลวงแผ่นดินหมายเลข 118 ตอนควบคุม 0100    11.150     เชียงใหม่   \n19960  ทางหลวงแผ่นดินหมายเลข 3549 ตอนควบคุม 0100     1.250     กาญจนบุรี   \n19961  ทางหลวงแผ่นดินหมายเลข 4034 ตอนควบคุม 0100    14.660        กระบี่   \n19962     ทางหลวงแผ่นดินหมายเลข 4 ตอนควบคุม 0802   601.120         ระนอง   \n19963                        ทางหลวงชนบท ชม.3029     5.600     เชียงใหม่   \n19964  ทางหลวงแผ่นดินหมายเลข 3268 ตอนควบคุม 0103    22.000   สมุทรปราการ   \n\n                                  รถคันที่ 1  \\\n19945                          รถจักรยานยนต์   \n19946  รถยนต์นั่งส่วนบุคคล/รถยนต์นั่งสาธารณะ   \n19947                          รถจักรยานยนต์   \n19948                   รถปิคอัพบรรทุก 4 ล้อ   \n19949                   รถปิคอัพบรรทุก 4 ล้อ   \n19950                          รถจักรยานยนต์   \n19951                          รถจักรยานยนต์   \n19952                          รถจักรยานยนต์   \n19953  รถยนต์นั่งส่วนบุคคล/รถยนต์นั่งสาธารณะ   \n19954                          รถจักรยานยนต์   \n19955  รถยนต์นั่งส่วนบุคคล/รถยนต์นั่งสาธารณะ   \n19956                   รถปิคอัพบรรทุก 4 ล้อ   \n19957  รถยนต์นั่งส่วนบุคคล/รถยนต์นั่งสาธารณะ   \n19958                          รถจักรยานยนต์   \n19959                          รถจักรยานยนต์   \n19960                   รถปิคอัพบรรทุก 4 ล้อ   \n19961                          รถจักรยานยนต์   \n19962                          รถจักรยานยนต์   \n19963                          รถจักรยานยนต์   \n19964                          รถจักรยานยนต์   \n\n                             บริเวณที่เกิดเหตุ/ลักษณะทาง  \\\n19945                                             ทางตรง   \n19946                                             ทางตรง   \n19947                                             ทางตรง   \n19948                                             ทางตรง   \n19949       ทางเชื่อมเข้าพื้นที่ส่วนบุคคล จำนวนช่องจราจร   \n19950                      ทางตรง+ไม่มีความลาดชัน/ที่ราบ   \n19951  ทางเชื่อมเข้าพื้นที่สาธารณะหรือเชิงพานิชย์ จำน...   \n19952                                             ทางตรง   \n19953                                             ทางตรง   \n19954                                     ทางแยกรูปตัว T   \n19955                                             ทางตรง   \n19956                                             ทางตรง   \n19957                                             ทางตรง   \n19958                                        ทางโค้งปกติ   \n19959                                             ทางตรง   \n19960                                        ทางโค้งปกติ   \n19961                                     ทางแยกรูปตัว T   \n19962                                             ทางตรง   \n19963                      ทางตรง+ไม่มีความลาดชัน/ที่ราบ   \n19964                                             ทางตรง   \n\n                                มูลเหตุสันนิษฐาน ลักษณะการเกิดอุบัติเหตุ   \\\n19945                         ขับรถเร็วเกินกำหนด    ชนกัน/ชนยานพาหนะอื่นๆ   \n19946                           อุปกรณ์รถบกพร่อง            ชนสิ่งกีดขวาง   \n19947                         ขับรถเร็วเกินกำหนด                 เฉี่ยวชน   \n19948                           อุปกรณ์รถบกพร่อง            พลิกคว่ำตกถนน   \n19949                  คนหรือรถตัดหน้ากระชั้นชิด        ชนกันหรือเฉี่ยวชน   \n19950                         ขับรถเร็วเกินกำหนด             ชนคนเดินเท้า   \n19951                  คนหรือรถตัดหน้ากระชั้นชิด    ชนกัน/ชนยานพาหนะอื่นๆ   \n19952                  คนหรือรถตัดหน้ากระชั้นชิด                   ชนท้าย   \n19953                         ขับรถเร็วเกินกำหนด          ชนอุปกรณ์งานทาง   \n19954                         ขับรถเร็วเกินกำหนด            พลิกคว่ำตกถนน   \n19955                         ขับรถเร็วเกินกำหนด            พลิกคว่ำตกถนน   \n19956                         ขับรถเร็วเกินกำหนด            พลิกคว่ำตกถนน   \n19957                         ขับรถเร็วเกินกำหนด                   ชนท้าย   \n19958                         ขับรถเร็วเกินกำหนด            พลิกคว่ำตกถนน   \n19959                         ขับรถเร็วเกินกำหนด          ชนอุปกรณ์งานทาง   \n19960                         ขับรถเร็วเกินกำหนด            พลิกคว่ำตกถนน   \n19961  ไม่ให้สิทธิรถที่มาก่อนผ่านทาง เช่น ทางแยก    ชนกัน/ชนยานพาหนะอื่นๆ   \n19962                         ขับรถเร็วเกินกำหนด          ชนอุปกรณ์งานทาง   \n19963                  คนหรือรถตัดหน้ากระชั้นชิด                   ชนท้าย   \n19964                         ขับรถเร็วเกินกำหนด                  ชนรถจอด   \n\n       จำนวนรถที่เกิดเหตุ\\n(รวมคันที่ 1)  จำนวนผู้เสียชวิต  \\\n19945                                  2                 1   \n19946                                  2                 0   \n19947                                  2                 0   \n19948                                  1                 0   \n19949                                  2                 1   \n19950                                  1                 1   \n19951                                  2                 0   \n19952                                  2                 0   \n19953                                  1                 0   \n19954                                  1                 0   \n19955                                  1                 0   \n19956                                  1                 0   \n19957                                  2                 0   \n19958                                  1                 0   \n19959                                  1                 1   \n19960                                  1                 1   \n19961                                  2                 0   \n19962                                  1                 2   \n19963                                  2                 1   \n19964                                  2                 1   \n\n       รวมจำนวนผู้บาดเจ็บ  สภาพอากาศ   LATITUDE   LONGITUDE  \n19945                   0     แจ่มใส  14.821608  103.064552  \n19946                   0     แจ่มใส  16.860865  104.681361  \n19947                   2     แจ่มใส   7.824511   98.342547  \n19948                   0     แจ่มใส   7.735923   99.301866  \n19949                   0     แจ่มใส  14.409696   99.839236  \n19950                   2     แจ่มใส  15.199799  103.924889  \n19951                   3  หมอก/ควัน  14.853877  100.064163  \n19952                   1     แจ่มใส  14.475853  100.110649  \n19953                   0     แจ่มใส  17.296240  102.861399  \n19954                   1     แจ่มใส  14.569187  100.236908  \n19955                   2     แจ่มใส  13.165411   99.842039  \n19956                   2     แจ่มใส   8.812859   99.166543  \n19957                   0     แจ่มใส  12.951183  100.958457  \n19958                   1     แจ่มใส  18.589153   99.042735  \n19959                   0     แจ่มใส  18.858869   99.105689  \n19960                   0     แจ่มใส  15.171119   98.462388  \n19961                   2     แจ่มใส   8.092608   98.811692  \n19962                   0  หมอก/ควัน   9.939225   98.633500  \n19963                   0     แจ่มใส  18.829234   99.006029  \n19964                   0     แจ่มใส  13.588040  100.788317  \n"
          ]
        }
      ]
    },
    {
      "cell_type": "markdown",
      "metadata": {
        "id": "Tfhrl_IoYy3p"
      },
      "source": [
        "3. จังหวัดใดมีอุบัติเหตุเยอะที่สุดถ้าอ้างอิงจาก `df`? (ลองใช้ `df['จังหวัด'].value_counts()`)"
      ]
    },
    {
      "cell_type": "code",
      "metadata": {
        "colab": {
          "base_uri": "https://localhost:8080/"
        },
        "id": "5T_IhmVtYy3p",
        "outputId": "cd5beb41-1771-4059-eaf4-cba3468aa739"
      },
      "source": [
        "import pandas as pd\n",
        "url = 'https://archive.org/download/ubatiehtuthaangthnn/ubatiehtuthaangthnn.xlsx'\n",
        "df = pd.read_excel(url)\n",
        "#ans\n",
        "df['จังหวัด'].value_counts()\n",
        "#กรุงเทพมหานคร"
      ],
      "execution_count": 55,
      "outputs": [
        {
          "output_type": "execute_result",
          "data": {
            "text/plain": [
              "กรุงเทพมหานคร    1844\n",
              "ชลบุรี            938\n",
              "นครราชสีมา        877\n",
              "สุพรรณบุรี        727\n",
              "สมุทรปราการ       649\n",
              "                 ... \n",
              "ยะลา               72\n",
              "พังงา              72\n",
              "ชัยภูมิ            70\n",
              "อำนาจเจริญ         51\n",
              "ระนอง              35\n",
              "Name: จังหวัด, Length: 77, dtype: int64"
            ]
          },
          "metadata": {
            "tags": []
          },
          "execution_count": 55
        }
      ]
    },
    {
      "cell_type": "markdown",
      "metadata": {
        "id": "3Upo-PgCYy3p"
      },
      "source": [
        "4. เลือกเฉพาะแถวที่เป็นอุบัติเหตุที่มีผู้เสียชีวิต 0 ราย / มีอุบัติเหตุที่ไม่มีผู้เสียชีวิตกี่ครั้ง? (เราสามารถกรอง dataframe ได้ด้วยคำสั่ง `df[df['จำนวนผู้เสียชีวิต']==0]`)"
      ]
    },
    {
      "cell_type": "code",
      "metadata": {
        "colab": {
          "base_uri": "https://localhost:8080/",
          "height": 793
        },
        "id": "lFPHlmKSYy3p",
        "outputId": "b6fe2d1a-b1b0-4bc1-b43a-27d12630e5c8"
      },
      "source": [
        "import pandas as pd\n",
        "url = 'https://archive.org/download/ubatiehtuthaangthnn/ubatiehtuthaangthnn.xlsx'\n",
        "df = pd.read_excel(url)\n",
        "#ans\n",
        "df[df['จำนวนผู้เสียชวิต']==0]\n",
        "#17296 ครั้ง (จำนวนแถว)\n"
      ],
      "execution_count": 57,
      "outputs": [
        {
          "output_type": "execute_result",
          "data": {
            "text/html": [
              "<div>\n",
              "<style scoped>\n",
              "    .dataframe tbody tr th:only-of-type {\n",
              "        vertical-align: middle;\n",
              "    }\n",
              "\n",
              "    .dataframe tbody tr th {\n",
              "        vertical-align: top;\n",
              "    }\n",
              "\n",
              "    .dataframe thead th {\n",
              "        text-align: right;\n",
              "    }\n",
              "</style>\n",
              "<table border=\"1\" class=\"dataframe\">\n",
              "  <thead>\n",
              "    <tr style=\"text-align: right;\">\n",
              "      <th></th>\n",
              "      <th>ปีที่เกิดเหตุ</th>\n",
              "      <th>วันที่เกิดเหตุ</th>\n",
              "      <th>เวลา</th>\n",
              "      <th>วันที่รายงาน</th>\n",
              "      <th>เวลาที่รายงาน</th>\n",
              "      <th>ACC_CODE</th>\n",
              "      <th>หน่วยงาน</th>\n",
              "      <th>สายทาง</th>\n",
              "      <th>ก.ม.</th>\n",
              "      <th>จังหวัด</th>\n",
              "      <th>รถคันที่ 1</th>\n",
              "      <th>บริเวณที่เกิดเหตุ/ลักษณะทาง</th>\n",
              "      <th>มูลเหตุสันนิษฐาน</th>\n",
              "      <th>ลักษณะการเกิดอุบัติเหตุ</th>\n",
              "      <th>จำนวนรถที่เกิดเหตุ\\n(รวมคันที่ 1)</th>\n",
              "      <th>จำนวนผู้เสียชวิต</th>\n",
              "      <th>รวมจำนวนผู้บาดเจ็บ</th>\n",
              "      <th>สภาพอากาศ</th>\n",
              "      <th>LATITUDE</th>\n",
              "      <th>LONGITUDE</th>\n",
              "    </tr>\n",
              "  </thead>\n",
              "  <tbody>\n",
              "    <tr>\n",
              "      <th>0</th>\n",
              "      <td>2019</td>\n",
              "      <td>01/01/2019</td>\n",
              "      <td>00:00</td>\n",
              "      <td>02/01/2019</td>\n",
              "      <td>06:11</td>\n",
              "      <td>201901023254</td>\n",
              "      <td>กรมทางหลวงชนบท</td>\n",
              "      <td>ทางหลวงชนบท ลบ.2029</td>\n",
              "      <td>4.000</td>\n",
              "      <td>ลพบุรี</td>\n",
              "      <td>รถจักรยานยนต์</td>\n",
              "      <td>ทางตรง+ไม่มีความลาดชัน/ที่ราบ</td>\n",
              "      <td>เมาสุรา</td>\n",
              "      <td>อื่น ๆ</td>\n",
              "      <td>1</td>\n",
              "      <td>0</td>\n",
              "      <td>2</td>\n",
              "      <td>แจ่มใส</td>\n",
              "      <td>14.959105</td>\n",
              "      <td>100.873463</td>\n",
              "    </tr>\n",
              "    <tr>\n",
              "      <th>1</th>\n",
              "      <td>2019</td>\n",
              "      <td>01/01/2019</td>\n",
              "      <td>00:03</td>\n",
              "      <td>13/02/2019</td>\n",
              "      <td>12:06</td>\n",
              "      <td>201902135341</td>\n",
              "      <td>กรมทางหลวง</td>\n",
              "      <td>ทางหลวงแผ่นดินหมายเลข 24 ตอนควบคุม 0702</td>\n",
              "      <td>419.770</td>\n",
              "      <td>อุบลราชธานี</td>\n",
              "      <td>รถยนต์นั่งส่วนบุคคล/รถยนต์นั่งสาธารณะ</td>\n",
              "      <td>ทางตรง</td>\n",
              "      <td>ขับรถเร็วเกินกำหนด</td>\n",
              "      <td>ชนอุปกรณ์งานทาง</td>\n",
              "      <td>1</td>\n",
              "      <td>0</td>\n",
              "      <td>2</td>\n",
              "      <td>แจ่มใส</td>\n",
              "      <td>15.210738</td>\n",
              "      <td>104.862689</td>\n",
              "    </tr>\n",
              "    <tr>\n",
              "      <th>3</th>\n",
              "      <td>2019</td>\n",
              "      <td>01/01/2019</td>\n",
              "      <td>00:20</td>\n",
              "      <td>02/01/2019</td>\n",
              "      <td>05:12</td>\n",
              "      <td>201901023234</td>\n",
              "      <td>กรมทางหลวงชนบท</td>\n",
              "      <td>ทางหลวงชนบท ชม.4016</td>\n",
              "      <td>1.880</td>\n",
              "      <td>เชียงใหม่</td>\n",
              "      <td>รถจักรยานยนต์</td>\n",
              "      <td>ทางตรง+ไม่มีความลาดชัน/ที่ราบ</td>\n",
              "      <td>เมาสุรา</td>\n",
              "      <td>รถยนต์ชนรถไฟ</td>\n",
              "      <td>1</td>\n",
              "      <td>0</td>\n",
              "      <td>1</td>\n",
              "      <td>แจ่มใส</td>\n",
              "      <td>18.601721</td>\n",
              "      <td>98.804204</td>\n",
              "    </tr>\n",
              "    <tr>\n",
              "      <th>4</th>\n",
              "      <td>2019</td>\n",
              "      <td>01/01/2019</td>\n",
              "      <td>00:25</td>\n",
              "      <td>01/01/2019</td>\n",
              "      <td>09:54</td>\n",
              "      <td>201901012972</td>\n",
              "      <td>กรมทางหลวง</td>\n",
              "      <td>ทางหลวงแผ่นดินหมายเลข 225 ตอนควบคุม 0202</td>\n",
              "      <td>68.800</td>\n",
              "      <td>นครสวรรค์</td>\n",
              "      <td>รถยนต์นั่งส่วนบุคคล/รถยนต์นั่งสาธารณะ</td>\n",
              "      <td>ทางตรง</td>\n",
              "      <td>คนหรือรถตัดหน้ากระชั้นชิด</td>\n",
              "      <td>พลิกคว่ำตกถนน</td>\n",
              "      <td>1</td>\n",
              "      <td>0</td>\n",
              "      <td>0</td>\n",
              "      <td>แจ่มใส</td>\n",
              "      <td>15.866389</td>\n",
              "      <td>100.590010</td>\n",
              "    </tr>\n",
              "    <tr>\n",
              "      <th>5</th>\n",
              "      <td>2019</td>\n",
              "      <td>01/01/2019</td>\n",
              "      <td>00:30</td>\n",
              "      <td>01/01/2019</td>\n",
              "      <td>11:22</td>\n",
              "      <td>201901013012</td>\n",
              "      <td>กรมทางหลวง</td>\n",
              "      <td>ทางหลวงแผ่นดินหมายเลข 41 ตอนควบคุม 0103</td>\n",
              "      <td>65.850</td>\n",
              "      <td>ชุมพร</td>\n",
              "      <td>รถปิคอัพบรรทุก 4 ล้อ</td>\n",
              "      <td>ทางแยกรูปตัว +</td>\n",
              "      <td>ไม่ให้สิทธิรถที่มาก่อนผ่านทาง เช่น ทางแยก</td>\n",
              "      <td>ชนกัน/ชนยานพาหนะอื่นๆ</td>\n",
              "      <td>2</td>\n",
              "      <td>0</td>\n",
              "      <td>2</td>\n",
              "      <td>แจ่มใส</td>\n",
              "      <td>9.949354</td>\n",
              "      <td>99.063479</td>\n",
              "    </tr>\n",
              "    <tr>\n",
              "      <th>...</th>\n",
              "      <td>...</td>\n",
              "      <td>...</td>\n",
              "      <td>...</td>\n",
              "      <td>...</td>\n",
              "      <td>...</td>\n",
              "      <td>...</td>\n",
              "      <td>...</td>\n",
              "      <td>...</td>\n",
              "      <td>...</td>\n",
              "      <td>...</td>\n",
              "      <td>...</td>\n",
              "      <td>...</td>\n",
              "      <td>...</td>\n",
              "      <td>...</td>\n",
              "      <td>...</td>\n",
              "      <td>...</td>\n",
              "      <td>...</td>\n",
              "      <td>...</td>\n",
              "      <td>...</td>\n",
              "      <td>...</td>\n",
              "    </tr>\n",
              "    <tr>\n",
              "      <th>19955</th>\n",
              "      <td>2019</td>\n",
              "      <td>31/12/2019</td>\n",
              "      <td>23:00</td>\n",
              "      <td>31/12/2019</td>\n",
              "      <td>23:37</td>\n",
              "      <td>201912313628</td>\n",
              "      <td>กรมทางหลวง</td>\n",
              "      <td>ทางหลวงแผ่นดินหมายเลข 4 ตอนควบคุม 0501</td>\n",
              "      <td>145.400</td>\n",
              "      <td>เพชรบุรี</td>\n",
              "      <td>รถยนต์นั่งส่วนบุคคล/รถยนต์นั่งสาธารณะ</td>\n",
              "      <td>ทางตรง</td>\n",
              "      <td>ขับรถเร็วเกินกำหนด</td>\n",
              "      <td>พลิกคว่ำตกถนน</td>\n",
              "      <td>1</td>\n",
              "      <td>0</td>\n",
              "      <td>2</td>\n",
              "      <td>แจ่มใส</td>\n",
              "      <td>13.165411</td>\n",
              "      <td>99.842039</td>\n",
              "    </tr>\n",
              "    <tr>\n",
              "      <th>19956</th>\n",
              "      <td>2019</td>\n",
              "      <td>31/12/2019</td>\n",
              "      <td>23:10</td>\n",
              "      <td>01/01/2020</td>\n",
              "      <td>00:14</td>\n",
              "      <td>202001013638</td>\n",
              "      <td>กรมทางหลวง</td>\n",
              "      <td>ทางหลวงแผ่นดินหมายเลข 44 ตอนควบคุม 0200</td>\n",
              "      <td>78.300</td>\n",
              "      <td>สุราษฎร์ธานี</td>\n",
              "      <td>รถปิคอัพบรรทุก 4 ล้อ</td>\n",
              "      <td>ทางตรง</td>\n",
              "      <td>ขับรถเร็วเกินกำหนด</td>\n",
              "      <td>พลิกคว่ำตกถนน</td>\n",
              "      <td>1</td>\n",
              "      <td>0</td>\n",
              "      <td>2</td>\n",
              "      <td>แจ่มใส</td>\n",
              "      <td>8.812859</td>\n",
              "      <td>99.166543</td>\n",
              "    </tr>\n",
              "    <tr>\n",
              "      <th>19957</th>\n",
              "      <td>2019</td>\n",
              "      <td>31/12/2019</td>\n",
              "      <td>23:20</td>\n",
              "      <td>31/12/2019</td>\n",
              "      <td>23:53</td>\n",
              "      <td>202001013632</td>\n",
              "      <td>กรมทางหลวง</td>\n",
              "      <td>ทางหลวงแผ่นดินหมายเลข 7 ตอนควบคุม 0109</td>\n",
              "      <td>5.900</td>\n",
              "      <td>ชลบุรี</td>\n",
              "      <td>รถยนต์นั่งส่วนบุคคล/รถยนต์นั่งสาธารณะ</td>\n",
              "      <td>ทางตรง</td>\n",
              "      <td>ขับรถเร็วเกินกำหนด</td>\n",
              "      <td>ชนท้าย</td>\n",
              "      <td>2</td>\n",
              "      <td>0</td>\n",
              "      <td>0</td>\n",
              "      <td>แจ่มใส</td>\n",
              "      <td>12.951183</td>\n",
              "      <td>100.958457</td>\n",
              "    </tr>\n",
              "    <tr>\n",
              "      <th>19958</th>\n",
              "      <td>2019</td>\n",
              "      <td>31/12/2019</td>\n",
              "      <td>23:20</td>\n",
              "      <td>01/01/2020</td>\n",
              "      <td>00:38</td>\n",
              "      <td>202001013646</td>\n",
              "      <td>กรมทางหลวง</td>\n",
              "      <td>ทางหลวงแผ่นดินหมายเลข 1147 ตอนควบคุม 0100</td>\n",
              "      <td>0.005</td>\n",
              "      <td>ลำพูน</td>\n",
              "      <td>รถจักรยานยนต์</td>\n",
              "      <td>ทางโค้งปกติ</td>\n",
              "      <td>ขับรถเร็วเกินกำหนด</td>\n",
              "      <td>พลิกคว่ำตกถนน</td>\n",
              "      <td>1</td>\n",
              "      <td>0</td>\n",
              "      <td>1</td>\n",
              "      <td>แจ่มใส</td>\n",
              "      <td>18.589153</td>\n",
              "      <td>99.042735</td>\n",
              "    </tr>\n",
              "    <tr>\n",
              "      <th>19961</th>\n",
              "      <td>2019</td>\n",
              "      <td>31/12/2019</td>\n",
              "      <td>23:35</td>\n",
              "      <td>01/01/2020</td>\n",
              "      <td>00:14</td>\n",
              "      <td>202001013642</td>\n",
              "      <td>กรมทางหลวง</td>\n",
              "      <td>ทางหลวงแผ่นดินหมายเลข 4034 ตอนควบคุม 0100</td>\n",
              "      <td>14.660</td>\n",
              "      <td>กระบี่</td>\n",
              "      <td>รถจักรยานยนต์</td>\n",
              "      <td>ทางแยกรูปตัว T</td>\n",
              "      <td>ไม่ให้สิทธิรถที่มาก่อนผ่านทาง เช่น ทางแยก</td>\n",
              "      <td>ชนกัน/ชนยานพาหนะอื่นๆ</td>\n",
              "      <td>2</td>\n",
              "      <td>0</td>\n",
              "      <td>2</td>\n",
              "      <td>แจ่มใส</td>\n",
              "      <td>8.092608</td>\n",
              "      <td>98.811692</td>\n",
              "    </tr>\n",
              "  </tbody>\n",
              "</table>\n",
              "<p>17296 rows × 20 columns</p>\n",
              "</div>"
            ],
            "text/plain": [
              "       ปีที่เกิดเหตุ วันที่เกิดเหตุ   เวลา  ... สภาพอากาศ   LATITUDE   LONGITUDE\n",
              "0               2019     01/01/2019  00:00  ...    แจ่มใส  14.959105  100.873463\n",
              "1               2019     01/01/2019  00:03  ...    แจ่มใส  15.210738  104.862689\n",
              "3               2019     01/01/2019  00:20  ...    แจ่มใส  18.601721   98.804204\n",
              "4               2019     01/01/2019  00:25  ...    แจ่มใส  15.866389  100.590010\n",
              "5               2019     01/01/2019  00:30  ...    แจ่มใส   9.949354   99.063479\n",
              "...              ...            ...    ...  ...       ...        ...         ...\n",
              "19955           2019     31/12/2019  23:00  ...    แจ่มใส  13.165411   99.842039\n",
              "19956           2019     31/12/2019  23:10  ...    แจ่มใส   8.812859   99.166543\n",
              "19957           2019     31/12/2019  23:20  ...    แจ่มใส  12.951183  100.958457\n",
              "19958           2019     31/12/2019  23:20  ...    แจ่มใส  18.589153   99.042735\n",
              "19961           2019     31/12/2019  23:35  ...    แจ่มใส   8.092608   98.811692\n",
              "\n",
              "[17296 rows x 20 columns]"
            ]
          },
          "metadata": {
            "tags": []
          },
          "execution_count": 0
        }
      ]
    },
    {
      "cell_type": "markdown",
      "metadata": {
        "id": "vPIfBAz_Yy3q"
      },
      "source": [
        "\n",
        "5. ค่าเฉลี่ยของ latitude, logitude ของอุบัติเหตุที่เกิดขึ้นในจังหวัดเชียงใหม่อยู่ที่เท่าใด? (กรองให้เหลือแค่จังหวัดเชียงใหม่แล้วหาค่าเฉลี่ยด้วยคำสั่ง `df.LATITUDE.mean()` และ `df.LONGITUDE.mean()`)"
      ]
    },
    {
      "cell_type": "code",
      "metadata": {
        "colab": {
          "base_uri": "https://localhost:8080/"
        },
        "id": "RbUFPDrcYy3q",
        "outputId": "04e3322d-5d2a-4141-bb57-dc76cc505239"
      },
      "source": [
        "url = 'https://archive.org/download/ubatiehtuthaangthnn/ubatiehtuthaangthnn.xlsx'\n",
        "df = pd.read_excel(url)\n",
        "#ans\n",
        "ar = df[df['จังหวัด'] == 'เชียงใหม่']\n",
        "ar.LATITUDE.mean(), ar.LONGITUDE.mean()"
      ],
      "execution_count": 58,
      "outputs": [
        {
          "output_type": "execute_result",
          "data": {
            "text/plain": [
              "(18.91090138416936, 98.91462670826341)"
            ]
          },
          "metadata": {
            "tags": []
          },
          "execution_count": 58
        }
      ]
    },
    {
      "cell_type": "markdown",
      "metadata": {
        "id": "9OMlutaUYy3q"
      },
      "source": [
        "6. `ลักษณะการเกิดอุบัติเหตุ ` แบบใดมี `จำนวนผู้เสียชวิต` โดยเฉลี่ยสูงที่สุด?"
      ]
    },
    {
      "cell_type": "code",
      "metadata": {
        "colab": {
          "base_uri": "https://localhost:8080/",
          "height": 979
        },
        "id": "H-Dz_UzqYy3q",
        "outputId": "bdb7bd79-bafe-424b-ccee-905d1ad0cc90"
      },
      "source": [
        "import pandas as pd\n",
        "url = 'https://archive.org/download/ubatiehtuthaangthnn/ubatiehtuthaangthnn.xlsx'\n",
        "df = pd.read_excel(url)\n",
        "#ans\n",
        "ar = df.groupby(['ลักษณะการเกิดอุบัติเหตุ '])['จำนวนผู้เสียชวิต'].mean().reset_index()\n",
        "ar.sort_values(by='จำนวนผู้เสียชวิต', ascending=False)\n",
        "#ชนรถไฟ"
      ],
      "execution_count": 65,
      "outputs": [
        {
          "output_type": "execute_result",
          "data": {
            "text/html": [
              "<div>\n",
              "<style scoped>\n",
              "    .dataframe tbody tr th:only-of-type {\n",
              "        vertical-align: middle;\n",
              "    }\n",
              "\n",
              "    .dataframe tbody tr th {\n",
              "        vertical-align: top;\n",
              "    }\n",
              "\n",
              "    .dataframe thead th {\n",
              "        text-align: right;\n",
              "    }\n",
              "</style>\n",
              "<table border=\"1\" class=\"dataframe\">\n",
              "  <thead>\n",
              "    <tr style=\"text-align: right;\">\n",
              "      <th></th>\n",
              "      <th>ลักษณะการเกิดอุบัติเหตุ</th>\n",
              "      <th>จำนวนผู้เสียชวิต</th>\n",
              "    </tr>\n",
              "  </thead>\n",
              "  <tbody>\n",
              "    <tr>\n",
              "      <th>8</th>\n",
              "      <td>ชนรถไฟ</td>\n",
              "      <td>6.000000</td>\n",
              "    </tr>\n",
              "    <tr>\n",
              "      <th>2</th>\n",
              "      <td>ชนขณะแซง</td>\n",
              "      <td>0.794118</td>\n",
              "    </tr>\n",
              "    <tr>\n",
              "      <th>25</th>\n",
              "      <td>รถยนต์พลิกคว่ำ ตกถนน</td>\n",
              "      <td>0.750000</td>\n",
              "    </tr>\n",
              "    <tr>\n",
              "      <th>18</th>\n",
              "      <td>รถจักรยานยนต์ชนรถจักรยานพลิกคว่ำ ตกถนน</td>\n",
              "      <td>0.750000</td>\n",
              "    </tr>\n",
              "    <tr>\n",
              "      <th>12</th>\n",
              "      <td>ชนในทิศทางตรงกันข้าม (ไม่ใช่การแซง)</td>\n",
              "      <td>0.615385</td>\n",
              "    </tr>\n",
              "    <tr>\n",
              "      <th>4</th>\n",
              "      <td>ชนคนเดินเท้า</td>\n",
              "      <td>0.610714</td>\n",
              "    </tr>\n",
              "    <tr>\n",
              "      <th>0</th>\n",
              "      <td>ชนกัน/ชนยานพาหนะอื่นๆ</td>\n",
              "      <td>0.437209</td>\n",
              "    </tr>\n",
              "    <tr>\n",
              "      <th>7</th>\n",
              "      <td>ชนรถจอด</td>\n",
              "      <td>0.436548</td>\n",
              "    </tr>\n",
              "    <tr>\n",
              "      <th>13</th>\n",
              "      <td>ตกจากรถ</td>\n",
              "      <td>0.428571</td>\n",
              "    </tr>\n",
              "    <tr>\n",
              "      <th>17</th>\n",
              "      <td>รถจักรยานยนต์ชนคน</td>\n",
              "      <td>0.400000</td>\n",
              "    </tr>\n",
              "    <tr>\n",
              "      <th>11</th>\n",
              "      <td>ชนเป็นมุมบริเวณทางแยก</td>\n",
              "      <td>0.385135</td>\n",
              "    </tr>\n",
              "    <tr>\n",
              "      <th>21</th>\n",
              "      <td>รถยนต์ชนรถจักรยานยนต์/รถสามล้อ</td>\n",
              "      <td>0.250000</td>\n",
              "    </tr>\n",
              "    <tr>\n",
              "      <th>1</th>\n",
              "      <td>ชนกันหรือเฉี่ยวชน</td>\n",
              "      <td>0.232843</td>\n",
              "    </tr>\n",
              "    <tr>\n",
              "      <th>23</th>\n",
              "      <td>รถยนต์ชนวัตถุ สิ่งของ</td>\n",
              "      <td>0.172414</td>\n",
              "    </tr>\n",
              "    <tr>\n",
              "      <th>9</th>\n",
              "      <td>ชนสิ่งกีดขวาง</td>\n",
              "      <td>0.161616</td>\n",
              "    </tr>\n",
              "    <tr>\n",
              "      <th>28</th>\n",
              "      <td>เลี้ยว/ถอยชน</td>\n",
              "      <td>0.157895</td>\n",
              "    </tr>\n",
              "    <tr>\n",
              "      <th>6</th>\n",
              "      <td>ชนท้าย</td>\n",
              "      <td>0.154588</td>\n",
              "    </tr>\n",
              "    <tr>\n",
              "      <th>27</th>\n",
              "      <td>เฉี่ยวชน</td>\n",
              "      <td>0.152490</td>\n",
              "    </tr>\n",
              "    <tr>\n",
              "      <th>22</th>\n",
              "      <td>รถยนต์ชนรถไฟ</td>\n",
              "      <td>0.148148</td>\n",
              "    </tr>\n",
              "    <tr>\n",
              "      <th>16</th>\n",
              "      <td>รถจักรยานยนต์ชนกับรถจักรยาน รถสามล้อ</td>\n",
              "      <td>0.142857</td>\n",
              "    </tr>\n",
              "    <tr>\n",
              "      <th>3</th>\n",
              "      <td>ชนขอบทาง</td>\n",
              "      <td>0.128889</td>\n",
              "    </tr>\n",
              "    <tr>\n",
              "      <th>26</th>\n",
              "      <td>อื่น ๆ</td>\n",
              "      <td>0.128205</td>\n",
              "    </tr>\n",
              "    <tr>\n",
              "      <th>15</th>\n",
              "      <td>พลิกคว่ำตกถนน</td>\n",
              "      <td>0.106300</td>\n",
              "    </tr>\n",
              "    <tr>\n",
              "      <th>29</th>\n",
              "      <td>เสียหลัก ไปอยู่ในช่องจราจรอื่นๆ</td>\n",
              "      <td>0.080128</td>\n",
              "    </tr>\n",
              "    <tr>\n",
              "      <th>5</th>\n",
              "      <td>ชนตู้เก็บเงิน ไม้กั้นเลน อุปกรณ์เก็บเงิน</td>\n",
              "      <td>0.052632</td>\n",
              "    </tr>\n",
              "    <tr>\n",
              "      <th>10</th>\n",
              "      <td>ชนอุปกรณ์งานทาง</td>\n",
              "      <td>0.047334</td>\n",
              "    </tr>\n",
              "    <tr>\n",
              "      <th>24</th>\n",
              "      <td>รถยนต์ชนสัตว์ รถลากจูงด้วยสัตว์</td>\n",
              "      <td>0.035714</td>\n",
              "    </tr>\n",
              "    <tr>\n",
              "      <th>20</th>\n",
              "      <td>รถยนต์ชนกัน</td>\n",
              "      <td>0.000000</td>\n",
              "    </tr>\n",
              "    <tr>\n",
              "      <th>19</th>\n",
              "      <td>รถจักรยานยนต์ชนรถยนต์</td>\n",
              "      <td>0.000000</td>\n",
              "    </tr>\n",
              "    <tr>\n",
              "      <th>14</th>\n",
              "      <td>พลิกคว่ำ</td>\n",
              "      <td>0.000000</td>\n",
              "    </tr>\n",
              "  </tbody>\n",
              "</table>\n",
              "</div>"
            ],
            "text/plain": [
              "                    ลักษณะการเกิดอุบัติเหตุ   จำนวนผู้เสียชวิต\n",
              "8                                     ชนรถไฟ          6.000000\n",
              "2                                   ชนขณะแซง          0.794118\n",
              "25                      รถยนต์พลิกคว่ำ ตกถนน          0.750000\n",
              "18    รถจักรยานยนต์ชนรถจักรยานพลิกคว่ำ ตกถนน          0.750000\n",
              "12       ชนในทิศทางตรงกันข้าม (ไม่ใช่การแซง)          0.615385\n",
              "4                               ชนคนเดินเท้า          0.610714\n",
              "0                      ชนกัน/ชนยานพาหนะอื่นๆ          0.437209\n",
              "7                                    ชนรถจอด          0.436548\n",
              "13                                   ตกจากรถ          0.428571\n",
              "17                         รถจักรยานยนต์ชนคน          0.400000\n",
              "11                     ชนเป็นมุมบริเวณทางแยก          0.385135\n",
              "21            รถยนต์ชนรถจักรยานยนต์/รถสามล้อ          0.250000\n",
              "1                          ชนกันหรือเฉี่ยวชน          0.232843\n",
              "23                     รถยนต์ชนวัตถุ สิ่งของ          0.172414\n",
              "9                              ชนสิ่งกีดขวาง          0.161616\n",
              "28                              เลี้ยว/ถอยชน          0.157895\n",
              "6                                     ชนท้าย          0.154588\n",
              "27                                  เฉี่ยวชน          0.152490\n",
              "22                              รถยนต์ชนรถไฟ          0.148148\n",
              "16      รถจักรยานยนต์ชนกับรถจักรยาน รถสามล้อ          0.142857\n",
              "3                                   ชนขอบทาง          0.128889\n",
              "26                                    อื่น ๆ          0.128205\n",
              "15                             พลิกคว่ำตกถนน          0.106300\n",
              "29           เสียหลัก ไปอยู่ในช่องจราจรอื่นๆ          0.080128\n",
              "5   ชนตู้เก็บเงิน ไม้กั้นเลน อุปกรณ์เก็บเงิน          0.052632\n",
              "10                           ชนอุปกรณ์งานทาง          0.047334\n",
              "24           รถยนต์ชนสัตว์ รถลากจูงด้วยสัตว์          0.035714\n",
              "20                               รถยนต์ชนกัน          0.000000\n",
              "19                     รถจักรยานยนต์ชนรถยนต์          0.000000\n",
              "14                                  พลิกคว่ำ          0.000000"
            ]
          },
          "metadata": {
            "tags": []
          },
          "execution_count": 65
        }
      ]
    },
    {
      "cell_type": "markdown",
      "metadata": {
        "id": "bk0ZJRv8Yy3r"
      },
      "source": [
        "7. อุบัติเหตุที่เกิดจาก `มูลเหตุสันนิษฐาน` เป็น `ขับรถเร็วเกินกำหนด` มีโอกาสทำให้มีผู้เสียชีวิตมากกว่า `มูลเหตุสันนิษฐาน` อื่นหรือไม่?"
      ]
    },
    {
      "cell_type": "code",
      "metadata": {
        "colab": {
          "base_uri": "https://localhost:8080/"
        },
        "id": "WiIIGSdVYy3s",
        "outputId": "10684dbe-ec14-477f-dcb0-60c3b0bc9f13"
      },
      "source": [
        "import pandas as pd\n",
        "url = 'https://archive.org/download/ubatiehtuthaangthnn/ubatiehtuthaangthnn.xlsx'\n",
        "df = pd.read_excel(url)\n",
        "#ans\n",
        "df['drive_fast_flag'] = df['มูลเหตุสันนิษฐาน'].map(lambda x: 1 if x == 'ขับรถเร็วเกินกำหนด' else 0)\n",
        "df['has_death'] = df['จำนวนผู้เสียชวิต'].map(lambda x: 1 if x >= 1 else 0)\n",
        "df.groupby('drive_fast_flag').has_death.mean()\n",
        "#ไม่"
      ],
      "execution_count": 66,
      "outputs": [
        {
          "output_type": "execute_result",
          "data": {
            "text/plain": [
              "drive_fast_flag\n",
              "0    0.157192\n",
              "1    0.124128\n",
              "Name: has_death, dtype: float64"
            ]
          },
          "metadata": {
            "tags": []
          },
          "execution_count": 66
        }
      ]
    }
  ]
}